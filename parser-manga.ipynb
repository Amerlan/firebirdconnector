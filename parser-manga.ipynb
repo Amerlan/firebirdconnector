{
 "cells": [
  {
   "cell_type": "code",
   "execution_count": null,
   "metadata": {},
   "outputs": [],
   "source": [
    "from bs4 import BeautifulSoup as bs\n",
    "import requests\n",
    "import urllib"
   ]
  },
  {
   "cell_type": "code",
   "execution_count": null,
   "metadata": {},
   "outputs": [],
   "source": [
    "url = 'https://jut.su/boruto/1/1.html'  \n",
    "url1 = 'https://img3.mangalib.me/manga/boruto/chapters/1-1/01.png'"
   ]
  },
  {
   "cell_type": "code",
   "execution_count": null,
   "metadata": {},
   "outputs": [],
   "source": [
    "for i in range(1,100):\n",
    "    j = 0\n",
    "    while True:\n",
    "        j+=1\n",
    "        response = requests.get(str(url+str(i)+'/'+str(j)+'.html'))\n",
    "        if response.status_code == 404:\n",
    "            break\n",
    "        else:\n",
    "            img = str(page.find(('img'), {'id':'manga_img_here'})).split('\\\"')[3]\n",
    "        "
   ]
  },
  {
   "cell_type": "code",
   "execution_count": null,
   "metadata": {},
   "outputs": [],
   "source": [
    "response = requests.get(url, proxies={'http':'195.46.167.2'}, headers={'User-Agent': 'Mozilla/5.0'})"
   ]
  },
  {
   "cell_type": "code",
   "execution_count": null,
   "metadata": {},
   "outputs": [],
   "source": [
    "page = bs(response.text, 'html.parser' )"
   ]
  },
  {
   "cell_type": "code",
   "execution_count": null,
   "metadata": {},
   "outputs": [],
   "source": [
    "a = str(page.find(('img'), {'id':'manga_img_here'})).split('\\\"')[3]"
   ]
  },
  {
   "cell_type": "code",
   "execution_count": null,
   "metadata": {},
   "outputs": [],
   "source": [
    "a = 'https://sun9-14.userapi.com/c857628/v857628629/d50f1/xi_br8Ohly4.jpg'"
   ]
  },
  {
   "cell_type": "code",
   "execution_count": null,
   "metadata": {},
   "outputs": [],
   "source": [
    "a = 'https://sun9-14.userapi.com/c857628/v857628629/d50f1/xi_br8Ohly4.jpg'\n",
    "urllib.request.urlretrieve(url1, r'C:\\Users\\Amerlan\\Desktop\\1.jpg')"
   ]
  },
  {
   "cell_type": "code",
   "execution_count": null,
   "metadata": {},
   "outputs": [],
   "source": [
    "import urllib\n",
    "resource = urllib.request.urlopen(a)\n",
    "output = open(\"file01.jpg\",\"wb\")\n",
    "output.write(resource.read())\n",
    "output.close()"
   ]
  },
  {
   "cell_type": "code",
   "execution_count": null,
   "metadata": {},
   "outputs": [],
   "source": [
    "%pastebin parser.py\n",
    "# from bs4 import BeautifulSoup as bs\n",
    "# import requests\n",
    "# import urllib\n",
    "# #Не работает \n",
    "# url1 = 'https://img3.mangalib.me/manga/boruto/chapters/1-1/01.png?1466332044'\n",
    "# urllib.request.urlretrieve(url1, r'C:\\Users\\Amerlan\\Desktop\\boruto\\1.png')\n",
    "\n",
    "# #картинка взятая с вк, работает. Дело в том что сервак не пускает\n",
    "# a = 'https://sun9-14.userapi.com/c857628/v857628629/d50f1/xi_br8Ohly4.jpg'\n",
    "# urllib.request.urlretrieve(a, r'C:\\Users\\Amerlan\\Desktop\\1.jpg')\n"
   ]
  },
  {
   "cell_type": "code",
   "execution_count": null,
   "metadata": {},
   "outputs": [],
   "source": []
  }
 ],
 "metadata": {
  "kernelspec": {
   "display_name": "Python 3",
   "language": "python",
   "name": "python3"
  },
  "language_info": {
   "codemirror_mode": {
    "name": "ipython",
    "version": 3
   },
   "file_extension": ".py",
   "mimetype": "text/x-python",
   "name": "python",
   "nbconvert_exporter": "python",
   "pygments_lexer": "ipython3",
   "version": "3.7.3"
  }
 },
 "nbformat": 4,
 "nbformat_minor": 2
}
